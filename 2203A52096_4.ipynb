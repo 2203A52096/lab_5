{
  "nbformat": 4,
  "nbformat_minor": 0,
  "metadata": {
    "colab": {
      "provenance": []
    },
    "kernelspec": {
      "name": "python3",
      "display_name": "Python 3"
    },
    "language_info": {
      "name": "python"
    }
  },
  "cells": [
    {
      "cell_type": "code",
      "execution_count": 33,
      "metadata": {
        "colab": {
          "base_uri": "https://localhost:8080/"
        },
        "id": "X_0_apzqiHQj",
        "outputId": "3df97bb7-01c2-4873-b3c8-461cb1b5014a"
      },
      "outputs": [
        {
          "output_type": "stream",
          "name": "stdout",
          "text": [
            "     Age  Gender  Protein1  Protein2  Protein3  Protein4 Tumour_Stage  \\\n",
            "0     42  FEMALE  0.952560   2.15000  0.007972 -0.048340           II   \n",
            "1     54  FEMALE  0.000000   1.38020 -0.498030 -0.507320           II   \n",
            "2     63  FEMALE -0.523030   1.76400 -0.370190  0.010815           II   \n",
            "3     78  FEMALE -0.876180   0.12943 -0.370380  0.132190            I   \n",
            "4     42  FEMALE  0.226110   1.74910 -0.543970 -0.390210           II   \n",
            "..   ...     ...       ...       ...       ...       ...          ...   \n",
            "329   59  FEMALE  0.024598   1.40050  0.024751  0.280320           II   \n",
            "330   41  FEMALE  0.100120  -0.46547  0.472370 -0.523870            I   \n",
            "331   54  FEMALE  0.753820   1.64250 -0.332850  0.857860           II   \n",
            "332   74  FEMALE  0.972510   1.42680 -0.366570 -0.107820           II   \n",
            "333   66  FEMALE  0.286380   1.39980  0.318830  0.836050           II   \n",
            "\n",
            "                          Histology ER status PR status HER2 status  \\\n",
            "0     Infiltrating Ductal Carcinoma  Positive  Positive    Negative   \n",
            "1     Infiltrating Ductal Carcinoma  Positive  Positive    Negative   \n",
            "2     Infiltrating Ductal Carcinoma  Positive  Positive    Negative   \n",
            "3     Infiltrating Ductal Carcinoma  Positive  Positive    Negative   \n",
            "4     Infiltrating Ductal Carcinoma  Positive  Positive    Positive   \n",
            "..                              ...       ...       ...         ...   \n",
            "329   Infiltrating Ductal Carcinoma  Positive  Positive    Positive   \n",
            "330   Infiltrating Ductal Carcinoma  Positive  Positive    Positive   \n",
            "331   Infiltrating Ductal Carcinoma  Positive  Positive    Negative   \n",
            "332  Infiltrating Lobular Carcinoma  Positive  Positive    Negative   \n",
            "333   Infiltrating Ductal Carcinoma  Positive  Positive    Negative   \n",
            "\n",
            "                    Surgery_type Date_of_Surgery Date_of_Last_Visit  \\\n",
            "0                          Other       20-May-18          26-Aug-18   \n",
            "1                          Other       26-Apr-18          25-Jan-19   \n",
            "2                     Lumpectomy       24-Aug-18          08-Apr-20   \n",
            "3                          Other       16-Nov-18          28-Jul-20   \n",
            "4                     Lumpectomy       12-Dec-18          05-Jan-19   \n",
            "..                           ...             ...                ...   \n",
            "329                   Lumpectomy       15-Jan-19          27-Mar-20   \n",
            "330  Modified Radical Mastectomy       25-Jul-18          23-Apr-19   \n",
            "331            Simple Mastectomy       26-Mar-19          11-Oct-19   \n",
            "332                   Lumpectomy       26-Nov-18          05-Dec-18   \n",
            "333  Modified Radical Mastectomy       04-Feb-19          10-Aug-19   \n",
            "\n",
            "    Patient_Status  \n",
            "0            Alive  \n",
            "1             Dead  \n",
            "2            Alive  \n",
            "3            Alive  \n",
            "4            Alive  \n",
            "..             ...  \n",
            "329          Alive  \n",
            "330          Alive  \n",
            "331           Dead  \n",
            "332          Alive  \n",
            "333           Dead  \n",
            "\n",
            "[334 rows x 15 columns]\n"
          ]
        }
      ],
      "source": [
        "import pandas as pd\n",
        "a= pd.read_csv('/content/breast_cancer_survival.csv')\n",
        "print(a)"
      ]
    },
    {
      "cell_type": "code",
      "source": [
        "y0=a['Patient_Status']\n",
        "print(y0)"
      ],
      "metadata": {
        "colab": {
          "base_uri": "https://localhost:8080/"
        },
        "id": "cU1hC0LPisc9",
        "outputId": "bf4ef96e-7bed-4082-b614-9c31cf14b45a"
      },
      "execution_count": 34,
      "outputs": [
        {
          "output_type": "stream",
          "name": "stdout",
          "text": [
            "0      Alive\n",
            "1       Dead\n",
            "2      Alive\n",
            "3      Alive\n",
            "4      Alive\n",
            "       ...  \n",
            "329    Alive\n",
            "330    Alive\n",
            "331     Dead\n",
            "332    Alive\n",
            "333     Dead\n",
            "Name: Patient_Status, Length: 334, dtype: object\n"
          ]
        }
      ]
    },
    {
      "cell_type": "code",
      "source": [
        "x0=a.drop('Patient_Status',axis=1)\n",
        "print(x0)"
      ],
      "metadata": {
        "colab": {
          "base_uri": "https://localhost:8080/"
        },
        "id": "0400cWhhl2Qr",
        "outputId": "1f2a97d3-4f51-4ebf-ac13-0971483f587b"
      },
      "execution_count": 35,
      "outputs": [
        {
          "output_type": "stream",
          "name": "stdout",
          "text": [
            "     Age  Gender  Protein1  Protein2  Protein3  Protein4 Tumour_Stage  \\\n",
            "0     42  FEMALE  0.952560   2.15000  0.007972 -0.048340           II   \n",
            "1     54  FEMALE  0.000000   1.38020 -0.498030 -0.507320           II   \n",
            "2     63  FEMALE -0.523030   1.76400 -0.370190  0.010815           II   \n",
            "3     78  FEMALE -0.876180   0.12943 -0.370380  0.132190            I   \n",
            "4     42  FEMALE  0.226110   1.74910 -0.543970 -0.390210           II   \n",
            "..   ...     ...       ...       ...       ...       ...          ...   \n",
            "329   59  FEMALE  0.024598   1.40050  0.024751  0.280320           II   \n",
            "330   41  FEMALE  0.100120  -0.46547  0.472370 -0.523870            I   \n",
            "331   54  FEMALE  0.753820   1.64250 -0.332850  0.857860           II   \n",
            "332   74  FEMALE  0.972510   1.42680 -0.366570 -0.107820           II   \n",
            "333   66  FEMALE  0.286380   1.39980  0.318830  0.836050           II   \n",
            "\n",
            "                          Histology ER status PR status HER2 status  \\\n",
            "0     Infiltrating Ductal Carcinoma  Positive  Positive    Negative   \n",
            "1     Infiltrating Ductal Carcinoma  Positive  Positive    Negative   \n",
            "2     Infiltrating Ductal Carcinoma  Positive  Positive    Negative   \n",
            "3     Infiltrating Ductal Carcinoma  Positive  Positive    Negative   \n",
            "4     Infiltrating Ductal Carcinoma  Positive  Positive    Positive   \n",
            "..                              ...       ...       ...         ...   \n",
            "329   Infiltrating Ductal Carcinoma  Positive  Positive    Positive   \n",
            "330   Infiltrating Ductal Carcinoma  Positive  Positive    Positive   \n",
            "331   Infiltrating Ductal Carcinoma  Positive  Positive    Negative   \n",
            "332  Infiltrating Lobular Carcinoma  Positive  Positive    Negative   \n",
            "333   Infiltrating Ductal Carcinoma  Positive  Positive    Negative   \n",
            "\n",
            "                    Surgery_type Date_of_Surgery Date_of_Last_Visit  \n",
            "0                          Other       20-May-18          26-Aug-18  \n",
            "1                          Other       26-Apr-18          25-Jan-19  \n",
            "2                     Lumpectomy       24-Aug-18          08-Apr-20  \n",
            "3                          Other       16-Nov-18          28-Jul-20  \n",
            "4                     Lumpectomy       12-Dec-18          05-Jan-19  \n",
            "..                           ...             ...                ...  \n",
            "329                   Lumpectomy       15-Jan-19          27-Mar-20  \n",
            "330  Modified Radical Mastectomy       25-Jul-18          23-Apr-19  \n",
            "331            Simple Mastectomy       26-Mar-19          11-Oct-19  \n",
            "332                   Lumpectomy       26-Nov-18          05-Dec-18  \n",
            "333  Modified Radical Mastectomy       04-Feb-19          10-Aug-19  \n",
            "\n",
            "[334 rows x 14 columns]\n"
          ]
        }
      ]
    },
    {
      "cell_type": "code",
      "source": [
        "x1=a.drop('Patient_Status',axis=1)\n",
        "x2=x1.drop('Surgery_type',axis=1)\n",
        "x3=x2.drop('Date_of_Surgery',axis=1)\n",
        "x4=x3.drop('Date_of_Last_Visit',axis=1)\n",
        "x5=x4.drop('Histology',axis=1)\n",
        "x6=x5.drop('HER2 status',axis=1)\n",
        "x7=x6.drop('PR status',axis=1)\n",
        "x8=x7.drop('ER status',axis=1)\n",
        "x9=x8.drop('Gender',axis=1)\n",
        "print(x9)\n",
        "x=x9"
      ],
      "metadata": {
        "colab": {
          "base_uri": "https://localhost:8080/"
        },
        "id": "UNZfeckimk-w",
        "outputId": "33c11b0c-c240-4a87-ef6b-5e1b5bdf2ce3"
      },
      "execution_count": 36,
      "outputs": [
        {
          "output_type": "stream",
          "name": "stdout",
          "text": [
            "     Age  Protein1  Protein2  Protein3  Protein4 Tumour_Stage\n",
            "0     42  0.952560   2.15000  0.007972 -0.048340           II\n",
            "1     54  0.000000   1.38020 -0.498030 -0.507320           II\n",
            "2     63 -0.523030   1.76400 -0.370190  0.010815           II\n",
            "3     78 -0.876180   0.12943 -0.370380  0.132190            I\n",
            "4     42  0.226110   1.74910 -0.543970 -0.390210           II\n",
            "..   ...       ...       ...       ...       ...          ...\n",
            "329   59  0.024598   1.40050  0.024751  0.280320           II\n",
            "330   41  0.100120  -0.46547  0.472370 -0.523870            I\n",
            "331   54  0.753820   1.64250 -0.332850  0.857860           II\n",
            "332   74  0.972510   1.42680 -0.366570 -0.107820           II\n",
            "333   66  0.286380   1.39980  0.318830  0.836050           II\n",
            "\n",
            "[334 rows x 6 columns]\n"
          ]
        }
      ]
    },
    {
      "cell_type": "code",
      "source": [
        "x['Tumour_Stage'] = x['Tumour_Stage'].replace(\"I\",1)\n",
        "x.to_csv(\"updated_breast_cancer_survival.csv\", index=False)\n",
        "x['Tumour_Stage'] = x['Tumour_Stage'].replace(\"II\",2)\n",
        "x.to_csv(\"updated_breast_cancer_survival.csv\", index=False)\n",
        "x['Tumour_Stage'] = x['Tumour_Stage'].replace(\"III\",3)\n",
        "x.to_csv(\"updated_breast_cancer_survival.csv\", index=False)\n",
        "print(x)"
      ],
      "metadata": {
        "colab": {
          "base_uri": "https://localhost:8080/"
        },
        "id": "B5wvfQtEozdV",
        "outputId": "52b108ac-f3f4-4428-d0fb-5f051f21b30e"
      },
      "execution_count": 37,
      "outputs": [
        {
          "output_type": "stream",
          "name": "stdout",
          "text": [
            "     Age  Protein1  Protein2  Protein3  Protein4  Tumour_Stage\n",
            "0     42  0.952560   2.15000  0.007972 -0.048340             2\n",
            "1     54  0.000000   1.38020 -0.498030 -0.507320             2\n",
            "2     63 -0.523030   1.76400 -0.370190  0.010815             2\n",
            "3     78 -0.876180   0.12943 -0.370380  0.132190             1\n",
            "4     42  0.226110   1.74910 -0.543970 -0.390210             2\n",
            "..   ...       ...       ...       ...       ...           ...\n",
            "329   59  0.024598   1.40050  0.024751  0.280320             2\n",
            "330   41  0.100120  -0.46547  0.472370 -0.523870             1\n",
            "331   54  0.753820   1.64250 -0.332850  0.857860             2\n",
            "332   74  0.972510   1.42680 -0.366570 -0.107820             2\n",
            "333   66  0.286380   1.39980  0.318830  0.836050             2\n",
            "\n",
            "[334 rows x 6 columns]\n"
          ]
        }
      ]
    },
    {
      "cell_type": "code",
      "source": [
        "y1 = y0.replace(\"Alive\",1)\n",
        "y1.to_csv(\"updated_breast_cancer_survival.csv\", index=False)\n",
        "y = y1.replace(\"Dead\",0)\n",
        "y.to_csv(\"updated_breast_cancer_survival.csv\", index=False)\n",
        "print(y)"
      ],
      "metadata": {
        "colab": {
          "base_uri": "https://localhost:8080/"
        },
        "id": "QKhh4DT73A8e",
        "outputId": "1b81bf49-0fdb-48b0-e9e8-592d85f39dcb"
      },
      "execution_count": 38,
      "outputs": [
        {
          "output_type": "stream",
          "name": "stdout",
          "text": [
            "0      1.0\n",
            "1      0.0\n",
            "2      1.0\n",
            "3      1.0\n",
            "4      1.0\n",
            "      ... \n",
            "329    1.0\n",
            "330    1.0\n",
            "331    0.0\n",
            "332    1.0\n",
            "333    0.0\n",
            "Name: Patient_Status, Length: 334, dtype: float64\n"
          ]
        }
      ]
    },
    {
      "cell_type": "code",
      "source": [
        "from sklearn.preprocessing import MinMaxScaler\n",
        "scaler=MinMaxScaler(feature_range=(0,1))\n",
        "xtrain_norm=scaler.fit_transform(x)\n",
        "print(xtrain_norm)"
      ],
      "metadata": {
        "colab": {
          "base_uri": "https://localhost:8080/"
        },
        "id": "r8o-cb_FvifA",
        "outputId": "a7275a17-6b15-4ee2-95f3-c958d6b2e767"
      },
      "execution_count": 39,
      "outputs": [
        {
          "output_type": "stream",
          "name": "stdout",
          "text": [
            "[[0.21311475 0.83707205 0.71417028 0.42801811 0.54088745 0.5       ]\n",
            " [0.40983607 0.59496759 0.53845416 0.29558469 0.41532527 0.5       ]\n",
            " [0.55737705 0.4620333  0.62606113 0.32904366 0.55707036 0.5       ]\n",
            " ...\n",
            " [0.40983607 0.78655992 0.5983273  0.33881648 0.78879466 0.5       ]\n",
            " [0.73770492 0.84214258 0.54909117 0.3299911  0.52461564 0.5       ]\n",
            " [0.60655738 0.66775448 0.5429281  0.50937762 0.78282814 0.5       ]]\n"
          ]
        }
      ]
    },
    {
      "cell_type": "code",
      "source": [
        "from sklearn.model_selection import train_test_split\n",
        "xh_train, xh_test, yh_train, yh_test = train_test_split(\n",
        "    x, y, test_size=0.05, random_state=0)\n",
        "print(xh_train)\n",
        "print(xh_test)\n",
        "print(yh_train)\n",
        "print(yh_test)"
      ],
      "metadata": {
        "colab": {
          "base_uri": "https://localhost:8080/"
        },
        "id": "6a9WHszyv2nI",
        "outputId": "0c8bb315-8747-46fd-dbba-e51ce0347f32"
      },
      "execution_count": 40,
      "outputs": [
        {
          "output_type": "stream",
          "name": "stdout",
          "text": [
            "     Age  Protein1  Protein2  Protein3  Protein4  Tumour_Stage\n",
            "224   38 -0.268450   0.19515  -1.02470  0.101720             3\n",
            "150   45 -0.278070   1.42910  -0.57895  0.222640             2\n",
            "49    68 -0.117330   1.63990  -0.28330 -0.297390             1\n",
            "76    60  0.252870   2.29670   0.53244  0.046291             3\n",
            "26    65 -0.002021   0.81402  -0.33155 -0.062663             2\n",
            "..   ...       ...       ...       ...       ...           ...\n",
            "323   57  0.000000   0.20684  -0.16110  0.374030             1\n",
            "192   61  0.188320  -0.15711  -0.55984 -0.599750             1\n",
            "117   88 -0.603350   1.38250   0.40357  0.269210             2\n",
            "47    47 -0.361770   1.11370   0.31335 -0.573850             2\n",
            "172   63 -0.832100  -0.23494   0.63831  0.030815             2\n",
            "\n",
            "[317 rows x 6 columns]\n",
            "     Age  Protein1  Protein2  Protein3  Protein4  Tumour_Stage\n",
            "166   53 -0.627800   0.26102 -0.204200 -1.305300             3\n",
            "78    77 -0.298700  -0.16129  0.460720 -0.396660             2\n",
            "15    77 -0.058151   0.67432 -0.423030  0.167530             1\n",
            "221   77  0.477710   0.81881 -0.406300 -0.654790             1\n",
            "194   53  0.287080   3.40220 -0.328500  0.216190             3\n",
            "252   72 -0.372700   0.55549 -0.667900 -0.350700             2\n",
            "168   52 -1.682800   0.72722  0.056773 -1.244100             2\n",
            "60    56 -0.675420   0.26937 -0.086603  1.071400             3\n",
            "74    69 -0.489030   2.37840 -0.467090  0.097310             1\n",
            "281   71 -0.223050   0.50594 -0.349430 -0.835300             2\n",
            "103   68 -0.576750   1.32760  0.081247 -0.399160             2\n",
            "55    62 -0.384440   1.00400 -0.638570 -0.544660             2\n",
            "37    50  0.129460  -0.49270  0.316030 -0.563820             3\n",
            "52    65 -0.540130   2.60430 -0.688030  0.003152             2\n",
            "64    63 -0.489130   0.89386 -0.470770 -0.205820             3\n",
            "54    45  0.176260   0.59342 -0.507520  0.400610             3\n",
            "68    46  0.765820   0.52405 -0.157170  0.143900             3\n",
            "224    1.0\n",
            "150    0.0\n",
            "49     1.0\n",
            "76     1.0\n",
            "26     0.0\n",
            "      ... \n",
            "323    1.0\n",
            "192    1.0\n",
            "117    0.0\n",
            "47     1.0\n",
            "172    1.0\n",
            "Name: Patient_Status, Length: 317, dtype: float64\n",
            "166    1.0\n",
            "78     1.0\n",
            "15     1.0\n",
            "221    1.0\n",
            "194    1.0\n",
            "252    0.0\n",
            "168    1.0\n",
            "60     NaN\n",
            "74     1.0\n",
            "281    1.0\n",
            "103    0.0\n",
            "55     1.0\n",
            "37     1.0\n",
            "52     1.0\n",
            "64     1.0\n",
            "54     0.0\n",
            "68     1.0\n",
            "Name: Patient_Status, dtype: float64\n"
          ]
        }
      ]
    },
    {
      "cell_type": "code",
      "source": [
        "import random\n",
        "import numpy as np\n",
        "\n",
        "xx1 = x['Age']\n",
        "xx2 = x['Protein1']\n",
        "xx3 = x['Protein2']\n",
        "xx4 = x['Protein3']\n",
        "xx5 = x['Tumour_Stage']\n",
        "y_p = []\n",
        "\n",
        "def perceptron(w1, w2, w3, w4, w5, b):\n",
        "    for i in range(len(x1)):\n",
        "        z = xx1[i] * w1 + xx2[i] * w2 + xx3[i] * w3 + xx4[i] * w4 + xx5[i] * w5 + b\n",
        "        s = 1 / (1 + np.exp(-z))\n",
        "        if s >= 0.5:\n",
        "            y_p.append(1)\n",
        "        else:\n",
        "            y_p.append(0)\n",
        "    print(y_p)\n",
        "\n",
        "w1 = random.randint(1, 100)\n",
        "w2 = random.randint(1, 100)\n",
        "w3 = random.randint(1, 100)\n",
        "w4 = random.randint(1, 100)\n",
        "w5 = random.randint(1, 100)\n",
        "perceptron(w1, w2, w3, w4, w5, 1)"
      ],
      "metadata": {
        "colab": {
          "base_uri": "https://localhost:8080/"
        },
        "id": "j3lwgMqD0JOx",
        "outputId": "46be1dc5-99d5-44b2-950e-da70e1feb316"
      },
      "execution_count": 41,
      "outputs": [
        {
          "output_type": "stream",
          "name": "stdout",
          "text": [
            "[1, 1, 1, 1, 1, 1, 1, 1, 1, 1, 1, 1, 1, 1, 1, 1, 1, 1, 1, 1, 1, 1, 1, 1, 1, 1, 1, 1, 1, 1, 1, 1, 1, 1, 1, 1, 1, 1, 1, 1, 1, 1, 1, 1, 1, 1, 1, 1, 1, 1, 1, 1, 1, 1, 1, 1, 1, 1, 1, 1, 1, 1, 1, 1, 1, 1, 1, 1, 1, 1, 1, 1, 1, 1, 1, 1, 1, 1, 1, 1, 1, 1, 1, 1, 1, 1, 1, 1, 1, 1, 1, 1, 1, 1, 1, 1, 1, 1, 1, 1, 1, 1, 1, 1, 1, 1, 1, 1, 1, 1, 1, 1, 1, 1, 1, 1, 1, 1, 1, 1, 1, 1, 1, 1, 1, 1, 1, 1, 1, 1, 1, 1, 1, 1, 1, 1, 1, 1, 1, 1, 1, 1, 1, 1, 1, 1, 1, 1, 1, 1, 1, 1, 1, 1, 1, 1, 1, 1, 1, 1, 1, 1, 1, 1, 1, 1, 1, 1, 1, 1, 1, 1, 1, 1, 1, 1, 1, 1, 1, 1, 1, 1, 1, 1, 1, 1, 1, 1, 1, 1, 1, 1, 1, 1, 1, 1, 1, 1, 1, 1, 1, 1, 1, 1, 1, 1, 1, 1, 1, 1, 1, 1, 1, 1, 1, 1, 1, 1, 1, 1, 1, 1, 1, 1, 1, 1, 1, 1, 1, 1, 1, 1, 1, 1, 1, 1, 1, 1, 1, 1, 1, 1, 1, 1, 1, 1, 1, 1, 1, 1, 1, 1, 1, 1, 1, 1, 1, 1, 1, 1, 1, 1, 1, 1, 1, 1, 1, 1, 1, 1, 1, 1, 1, 1, 1, 1, 1, 1, 1, 1, 1, 1, 1, 1, 1, 1, 1, 1, 1, 1, 1, 1, 1, 1, 1, 1, 1, 1, 1, 1, 1, 1, 1, 1, 1, 1, 1, 1, 1, 1, 1, 1, 1, 1, 1, 1, 1, 1, 1, 1, 1, 1, 1, 1, 1, 1, 1, 1, 1, 1, 1, 1, 1, 1]\n"
          ]
        }
      ]
    },
    {
      "cell_type": "code",
      "source": [
        "import matplotlib.pyplot as plt\n",
        "from sklearn.preprocessing import MinMaxScaler\n",
        "from sklearn.model_selection import train_test_split\n",
        "def sigmoid(z):\n",
        "    return 1 / (1 + np.exp(-z))\n",
        "def train_logistic_regression(X, y, learning_rate=0.01, num_iterations=1000):\n",
        "    m, n = X.shape\n",
        "    weights = np.zeros(n)\n",
        "    for _ in range(num_iterations):\n",
        "        z = np.dot(X, weights)\n",
        "        predictions = sigmoid(z)\n",
        "        gradient = np.dot(X.T, (predictions - y)) / m\n",
        "        weights -= learning_rate * gradient\n",
        "    return weights\n",
        "def predict(X, weights):\n",
        "    z = np.dot(X, weights)\n",
        "    predictions = sigmoid(z)\n",
        "    return [1 if p >= 0.5 else 0 for p in predictions]\n",
        "data = pd.read_csv(\"/content/breast_cancer_survival.csv\")\n",
        "data['Patient_Status'] = data['Patient_Status'].map({'Alive': 1, 'Dead': 0})\n",
        "data['HER2 status'] = data['HER2 status'].map({'Positive': 1, 'Negative': 0})\n",
        "data = data.fillna(data.mean())\n",
        "columns_to_drop = ['Surgery_type', 'Date_of_Surgery', 'Date_of_Last_Visit', 'Histology', 'Tumour_Stage', 'Gender', 'ER status', 'PR status']\n",
        "data = data.drop(columns=columns_to_drop)\n",
        "if data['Patient_Status'].isnull().sum() > 0:\n",
        "    raise ValueError(\"NaNs found in the target variable.\")"
      ],
      "metadata": {
        "colab": {
          "base_uri": "https://localhost:8080/"
        },
        "id": "IJecH1ir2DGa",
        "outputId": "92096219-2c8d-4335-9bf1-9413bb99b838"
      },
      "execution_count": 42,
      "outputs": [
        {
          "output_type": "stream",
          "name": "stderr",
          "text": [
            "<ipython-input-42-82eb551cd8be>:22: FutureWarning: The default value of numeric_only in DataFrame.mean is deprecated. In a future version, it will default to False. In addition, specifying 'numeric_only=None' is deprecated. Select only valid columns or specify the value of numeric_only to silence this warning.\n",
            "  data = data.fillna(data.mean())\n"
          ]
        }
      ]
    },
    {
      "cell_type": "code",
      "source": [
        "features = data.drop(\"Patient_Status\", axis=1)\n",
        "target = data[\"Patient_Status\"].astype(int)\n",
        "X_train, X_test, y_train, y_test = train_test_split(features, target, test_size=0.2, random_state=42)\n",
        "weights = train_logistic_regression(X_train, y_train)\n",
        "y_pred = predict(X_test, weights)\n",
        "accuracy = sum(y_pred == y_test) / len(y_test)\n",
        "print(\"Accuracy:\", accuracy)"
      ],
      "metadata": {
        "colab": {
          "base_uri": "https://localhost:8080/"
        },
        "id": "4p2FY6PL2k0L",
        "outputId": "3e9764da-f2f2-44ee-cf0d-563659d2a884"
      },
      "execution_count": 43,
      "outputs": [
        {
          "output_type": "stream",
          "name": "stdout",
          "text": [
            "Accuracy: 0.22388059701492538\n"
          ]
        }
      ]
    },
    {
      "cell_type": "code",
      "source": [
        "import matplotlib.pyplot as plt\n",
        "from sklearn.preprocessing import MinMaxScaler\n",
        "from sklearn.model_selection import train_test_split\n",
        "from sklearn.linear_model import LogisticRegression\n",
        "from sklearn.metrics import accuracy_score\n",
        "def logistic_regression(data):\n",
        "    data['Patient_Status'] = data['Patient_Status'].map({'Alive': 1, 'Dead': 0})\n",
        "    data['HER2 status'] = data['HER2 status'].map({'Positive': 1, 'Negative': 0})\n",
        "    data = data.fillna(data.mean())\n",
        "    columns_to_drop = ['Surgery_type', 'Date_of_Surgery', 'Date_of_Last_Visit', 'Histology', 'Tumour_Stage', 'Gender','ER status','PR status']\n",
        "    data = data.drop(columns=columns_to_drop)\n",
        "    if data['Patient_Status'].isnull().sum() > 0:\n",
        "        raise ValueError(\"NaNs found in the target variable.\")\n",
        "    features = data.drop(\"Patient_Status\", axis=1)\n",
        "    target = data[\"Patient_Status\"].astype(int)\n",
        "    x_train, x_test, y_train, y_test = train_test_split(features, target, test_size=0.2, random_state=42)\n",
        "    logistic_reg = LogisticRegression()\n",
        "    logistic_reg.fit(x_train, y_train)\n",
        "    y_pred = logistic_reg.predict(x_test)\n",
        "    accuracy = accuracy_score(y_test, y_pred)\n",
        "    print(\"Accuracy:\", accuracy)\n",
        "data = pd.read_csv(\"/content/breast_cancer_survival.csv\")\n",
        "logistic_regression(data)"
      ],
      "metadata": {
        "colab": {
          "base_uri": "https://localhost:8080/"
        },
        "id": "zV-Y2N3i_bbU",
        "outputId": "428677fc-a4d4-414e-b5fb-f96219490cb2"
      },
      "execution_count": 45,
      "outputs": [
        {
          "output_type": "stream",
          "name": "stdout",
          "text": [
            "Accuracy: 0.7761194029850746\n"
          ]
        },
        {
          "output_type": "stream",
          "name": "stderr",
          "text": [
            "<ipython-input-45-4f3e0cc75b99>:9: FutureWarning: The default value of numeric_only in DataFrame.mean is deprecated. In a future version, it will default to False. In addition, specifying 'numeric_only=None' is deprecated. Select only valid columns or specify the value of numeric_only to silence this warning.\n",
            "  data = data.fillna(data.mean())\n"
          ]
        }
      ]
    }
  ]
}